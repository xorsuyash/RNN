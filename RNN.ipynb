{
 "cells": [
  {
   "cell_type": "code",
   "execution_count": 1,
   "id": "eda9bacb",
   "metadata": {},
   "outputs": [
    {
     "name": "stderr",
     "output_type": "stream",
     "text": [
      "2023-02-10 23:08:03.070925: I tensorflow/core/platform/cpu_feature_guard.cc:193] This TensorFlow binary is optimized with oneAPI Deep Neural Network Library (oneDNN) to use the following CPU instructions in performance-critical operations:  SSE4.1 SSE4.2\n",
      "To enable them in other operations, rebuild TensorFlow with the appropriate compiler flags.\n"
     ]
    }
   ],
   "source": [
    "import tensorflow as tf "
   ]
  },
  {
   "cell_type": "code",
   "execution_count": 2,
   "id": "5316cdd7",
   "metadata": {},
   "outputs": [],
   "source": [
    "from keras import Sequential"
   ]
  },
  {
   "cell_type": "code",
   "execution_count": 3,
   "id": "f4e399bb",
   "metadata": {},
   "outputs": [],
   "source": [
    "from keras.layers import Dense,SimpleRNN "
   ]
  },
  {
   "cell_type": "code",
   "execution_count": 6,
   "id": "494ed09f",
   "metadata": {},
   "outputs": [],
   "source": [
    "model= Sequential()\n",
    "\n",
    "model.add(SimpleRNN(3,input_shape=(4,5)))\n",
    "model.add(Dense(1,'sigmoid'))"
   ]
  },
  {
   "cell_type": "code",
   "execution_count": 7,
   "id": "3e7a3cb4",
   "metadata": {},
   "outputs": [
    {
     "name": "stdout",
     "output_type": "stream",
     "text": [
      "Model: \"sequential_1\"\n",
      "_________________________________________________________________\n",
      " Layer (type)                Output Shape              Param #   \n",
      "=================================================================\n",
      " simple_rnn_1 (SimpleRNN)    (None, 3)                 27        \n",
      "                                                                 \n",
      " dense_1 (Dense)             (None, 1)                 4         \n",
      "                                                                 \n",
      "=================================================================\n",
      "Total params: 31\n",
      "Trainable params: 31\n",
      "Non-trainable params: 0\n",
      "_________________________________________________________________\n"
     ]
    }
   ],
   "source": [
    "model.summary()"
   ]
  },
  {
   "cell_type": "code",
   "execution_count": 13,
   "id": "d71ec001",
   "metadata": {},
   "outputs": [
    {
     "data": {
      "text/plain": [
       "(3,)"
      ]
     },
     "execution_count": 13,
     "metadata": {},
     "output_type": "execute_result"
    }
   ],
   "source": [
    "model.get_weights()[2].shape "
   ]
  },
  {
   "cell_type": "code",
   "execution_count": 14,
   "id": "c9b6ce7c",
   "metadata": {},
   "outputs": [],
   "source": [
    "#FORWARD PROP IN RNN "
   ]
  },
  {
   "cell_type": "code",
   "execution_count": 15,
   "id": "f5d17027",
   "metadata": {},
   "outputs": [],
   "source": [
    "import numpy as np"
   ]
  },
  {
   "cell_type": "code",
   "execution_count": 16,
   "id": "63dfe19b",
   "metadata": {},
   "outputs": [],
   "source": [
    "doc=['go india',\n",
    "    'kanishk in founder of FOSSUC-K',\n",
    "     'srijan is founder of TITS',\n",
    "     'jeetega bhai jeetega india jeetega',\n",
    "     'bharat maa ki jai',\n",
    "     'kohli kohli',\n",
    "     'sachin sachin',\n",
    "     'i want table so baldy'\n",
    "     'i will learn DSA when it is required',\n",
    "     'I will solve this issue by morining'\n",
    "]"
   ]
  },
  {
   "cell_type": "code",
   "execution_count": 18,
   "id": "99559867",
   "metadata": {},
   "outputs": [],
   "source": [
    "from keras.preprocessing.text import Tokenizer\n",
    "tokenizer=Tokenizer(oov_token='<nothing>')"
   ]
  },
  {
   "cell_type": "code",
   "execution_count": 20,
   "id": "b473b9cb",
   "metadata": {},
   "outputs": [],
   "source": [
    "tokenizer.fit_on_texts(doc)"
   ]
  },
  {
   "cell_type": "code",
   "execution_count": 21,
   "id": "a0b77130",
   "metadata": {},
   "outputs": [
    {
     "data": {
      "text/plain": [
       "{'<nothing>': 1,\n",
       " 'jeetega': 2,\n",
       " 'india': 3,\n",
       " 'founder': 4,\n",
       " 'of': 5,\n",
       " 'is': 6,\n",
       " 'kohli': 7,\n",
       " 'sachin': 8,\n",
       " 'i': 9,\n",
       " 'will': 10,\n",
       " 'go': 11,\n",
       " 'kanishk': 12,\n",
       " 'in': 13,\n",
       " 'fossuc': 14,\n",
       " 'k': 15,\n",
       " 'srijan': 16,\n",
       " 'tits': 17,\n",
       " 'bhai': 18,\n",
       " 'bharat': 19,\n",
       " 'maa': 20,\n",
       " 'ki': 21,\n",
       " 'jai': 22,\n",
       " 'want': 23,\n",
       " 'table': 24,\n",
       " 'so': 25,\n",
       " 'baldyi': 26,\n",
       " 'learn': 27,\n",
       " 'dsa': 28,\n",
       " 'when': 29,\n",
       " 'it': 30,\n",
       " 'required': 31,\n",
       " 'solve': 32,\n",
       " 'this': 33,\n",
       " 'issue': 34,\n",
       " 'by': 35,\n",
       " 'morining': 36}"
      ]
     },
     "execution_count": 21,
     "metadata": {},
     "output_type": "execute_result"
    }
   ],
   "source": [
    "tokenizer.word_index"
   ]
  },
  {
   "cell_type": "code",
   "execution_count": 23,
   "id": "ac9beb22",
   "metadata": {},
   "outputs": [
    {
     "data": {
      "text/plain": [
       "OrderedDict([('go', 1),\n",
       "             ('india', 2),\n",
       "             ('kanishk', 1),\n",
       "             ('in', 1),\n",
       "             ('founder', 2),\n",
       "             ('of', 2),\n",
       "             ('fossuc', 1),\n",
       "             ('k', 1),\n",
       "             ('srijan', 1),\n",
       "             ('is', 2),\n",
       "             ('tits', 1),\n",
       "             ('jeetega', 3),\n",
       "             ('bhai', 1),\n",
       "             ('bharat', 1),\n",
       "             ('maa', 1),\n",
       "             ('ki', 1),\n",
       "             ('jai', 1),\n",
       "             ('kohli', 2),\n",
       "             ('sachin', 2),\n",
       "             ('i', 2),\n",
       "             ('want', 1),\n",
       "             ('table', 1),\n",
       "             ('so', 1),\n",
       "             ('baldyi', 1),\n",
       "             ('will', 2),\n",
       "             ('learn', 1),\n",
       "             ('dsa', 1),\n",
       "             ('when', 1),\n",
       "             ('it', 1),\n",
       "             ('required', 1),\n",
       "             ('solve', 1),\n",
       "             ('this', 1),\n",
       "             ('issue', 1),\n",
       "             ('by', 1),\n",
       "             ('morining', 1)])"
      ]
     },
     "execution_count": 23,
     "metadata": {},
     "output_type": "execute_result"
    }
   ],
   "source": [
    "tokenizer.word_counts"
   ]
  },
  {
   "cell_type": "code",
   "execution_count": 29,
   "id": "5768b5e0",
   "metadata": {},
   "outputs": [],
   "source": [
    "sequences= tokenizer.texts_to_sequences(doc)"
   ]
  },
  {
   "cell_type": "code",
   "execution_count": 30,
   "id": "ba08f055",
   "metadata": {},
   "outputs": [
    {
     "data": {
      "text/plain": [
       "[[11, 3],\n",
       " [12, 13, 4, 5, 14, 15],\n",
       " [16, 6, 4, 5, 17],\n",
       " [2, 18, 2, 3, 2],\n",
       " [19, 20, 21, 22],\n",
       " [7, 7],\n",
       " [8, 8],\n",
       " [9, 23, 24, 25, 26, 10, 27, 28, 29, 30, 6, 31],\n",
       " [9, 10, 32, 33, 34, 35, 36]]"
      ]
     },
     "execution_count": 30,
     "metadata": {},
     "output_type": "execute_result"
    }
   ],
   "source": [
    "sequences "
   ]
  },
  {
   "cell_type": "code",
   "execution_count": 31,
   "id": "4209c2cc",
   "metadata": {},
   "outputs": [],
   "source": [
    "from keras.utils import pad_sequences "
   ]
  },
  {
   "cell_type": "code",
   "execution_count": 32,
   "id": "c4732ef7",
   "metadata": {},
   "outputs": [],
   "source": [
    "sequences=pad_sequences(sequences, padding='post')"
   ]
  },
  {
   "cell_type": "code",
   "execution_count": 33,
   "id": "7f46b3e7",
   "metadata": {},
   "outputs": [
    {
     "data": {
      "text/plain": [
       "array([[11,  3,  0,  0,  0,  0,  0,  0,  0,  0,  0,  0],\n",
       "       [12, 13,  4,  5, 14, 15,  0,  0,  0,  0,  0,  0],\n",
       "       [16,  6,  4,  5, 17,  0,  0,  0,  0,  0,  0,  0],\n",
       "       [ 2, 18,  2,  3,  2,  0,  0,  0,  0,  0,  0,  0],\n",
       "       [19, 20, 21, 22,  0,  0,  0,  0,  0,  0,  0,  0],\n",
       "       [ 7,  7,  0,  0,  0,  0,  0,  0,  0,  0,  0,  0],\n",
       "       [ 8,  8,  0,  0,  0,  0,  0,  0,  0,  0,  0,  0],\n",
       "       [ 9, 23, 24, 25, 26, 10, 27, 28, 29, 30,  6, 31],\n",
       "       [ 9, 10, 32, 33, 34, 35, 36,  0,  0,  0,  0,  0]], dtype=int32)"
      ]
     },
     "execution_count": 33,
     "metadata": {},
     "output_type": "execute_result"
    }
   ],
   "source": [
    "sequences "
   ]
  },
  {
   "cell_type": "code",
   "execution_count": 35,
   "id": "d4775f00",
   "metadata": {},
   "outputs": [],
   "source": [
    "from keras.datasets import imdb \n",
    "from keras import Sequential \n",
    "from keras.layers import Dense,SimpleRNN ,Embedding,Flatten"
   ]
  },
  {
   "cell_type": "code",
   "execution_count": 36,
   "id": "0238e9df",
   "metadata": {},
   "outputs": [
    {
     "name": "stdout",
     "output_type": "stream",
     "text": [
      "Downloading data from https://storage.googleapis.com/tensorflow/tf-keras-datasets/imdb.npz\n",
      "17464789/17464789 [==============================] - 2s 0us/step\n"
     ]
    }
   ],
   "source": [
    "(X_train,y_train),(X_test,y_test)=imdb.load_data()"
   ]
  },
  {
   "cell_type": "code",
   "execution_count": 38,
   "id": "b2aa6205",
   "metadata": {},
   "outputs": [
    {
     "data": {
      "text/plain": [
       "(25000,)"
      ]
     },
     "execution_count": 38,
     "metadata": {},
     "output_type": "execute_result"
    }
   ],
   "source": [
    "X_train.shape "
   ]
  },
  {
   "cell_type": "code",
   "execution_count": 39,
   "id": "f1148fdc",
   "metadata": {},
   "outputs": [
    {
     "data": {
      "text/plain": [
       "(25000,)"
      ]
     },
     "execution_count": 39,
     "metadata": {},
     "output_type": "execute_result"
    }
   ],
   "source": [
    "y_train.shape "
   ]
  },
  {
   "cell_type": "code",
   "execution_count": 41,
   "id": "e6da1992",
   "metadata": {},
   "outputs": [
    {
     "data": {
      "text/plain": [
       "(25000,)"
      ]
     },
     "execution_count": 41,
     "metadata": {},
     "output_type": "execute_result"
    }
   ],
   "source": [
    "X_test.shape\n",
    "y_test.shape "
   ]
  },
  {
   "cell_type": "code",
   "execution_count": 44,
   "id": "66f37dfb",
   "metadata": {},
   "outputs": [
    {
     "data": {
      "text/plain": [
       "189"
      ]
     },
     "execution_count": 44,
     "metadata": {},
     "output_type": "execute_result"
    }
   ],
   "source": [
    "len(X_train[1])"
   ]
  },
  {
   "cell_type": "code",
   "execution_count": 46,
   "id": "d75677c6",
   "metadata": {},
   "outputs": [],
   "source": [
    "X_train = pad_sequences(X_train,padding='post',maxlen=50)\n",
    "X_test = pad_sequences(X_test,padding='post',maxlen=50)\n",
    "\n",
    " "
   ]
  },
  {
   "cell_type": "code",
   "execution_count": 47,
   "id": "adc52a57",
   "metadata": {},
   "outputs": [
    {
     "data": {
      "text/plain": [
       "(25000, 50)"
      ]
     },
     "execution_count": 47,
     "metadata": {},
     "output_type": "execute_result"
    }
   ],
   "source": [
    "X_train.shape "
   ]
  },
  {
   "cell_type": "code",
   "execution_count": 48,
   "id": "a677a393",
   "metadata": {},
   "outputs": [
    {
     "data": {
      "text/plain": [
       "(25000, 50)"
      ]
     },
     "execution_count": 48,
     "metadata": {},
     "output_type": "execute_result"
    }
   ],
   "source": [
    "X_test.shape "
   ]
  },
  {
   "cell_type": "code",
   "execution_count": 49,
   "id": "538291c8",
   "metadata": {},
   "outputs": [],
   "source": [
    "model= Sequential()"
   ]
  },
  {
   "cell_type": "code",
   "execution_count": 53,
   "id": "34137848",
   "metadata": {},
   "outputs": [
    {
     "ename": "ValueError",
     "evalue": "Input 0 of layer \"simple_rnn_5\" is incompatible with the layer: expected ndim=3, found ndim=2. Full shape received: (None, 12)",
     "output_type": "error",
     "traceback": [
      "\u001b[0;31m---------------------------------------------------------------------------\u001b[0m",
      "\u001b[0;31mValueError\u001b[0m                                Traceback (most recent call last)",
      "Cell \u001b[0;32mIn[53], line 1\u001b[0m\n\u001b[0;32m----> 1\u001b[0m \u001b[43mmodel\u001b[49m\u001b[38;5;241;43m.\u001b[39;49m\u001b[43madd\u001b[49m\u001b[43m(\u001b[49m\u001b[43mSimpleRNN\u001b[49m\u001b[43m(\u001b[49m\u001b[38;5;241;43m32\u001b[39;49m\u001b[43m,\u001b[49m\u001b[43minput_shape\u001b[49m\u001b[38;5;241;43m=\u001b[39;49m\u001b[43m(\u001b[49m\u001b[38;5;241;43m50\u001b[39;49m\u001b[43m,\u001b[49m\u001b[38;5;241;43m1\u001b[39;49m\u001b[43m)\u001b[49m\u001b[43m,\u001b[49m\u001b[43mreturn_sequences\u001b[49m\u001b[38;5;241;43m=\u001b[39;49m\u001b[38;5;28;43;01mFalse\u001b[39;49;00m\u001b[43m)\u001b[49m\u001b[43m)\u001b[49m\n",
      "File \u001b[0;32m~/miniconda3/envs/Tensorflow/lib/python3.10/site-packages/tensorflow/python/trackable/base.py:205\u001b[0m, in \u001b[0;36mno_automatic_dependency_tracking.<locals>._method_wrapper\u001b[0;34m(self, *args, **kwargs)\u001b[0m\n\u001b[1;32m    203\u001b[0m \u001b[38;5;28mself\u001b[39m\u001b[38;5;241m.\u001b[39m_self_setattr_tracking \u001b[38;5;241m=\u001b[39m \u001b[38;5;28;01mFalse\u001b[39;00m  \u001b[38;5;66;03m# pylint: disable=protected-access\u001b[39;00m\n\u001b[1;32m    204\u001b[0m \u001b[38;5;28;01mtry\u001b[39;00m:\n\u001b[0;32m--> 205\u001b[0m   result \u001b[38;5;241m=\u001b[39m \u001b[43mmethod\u001b[49m\u001b[43m(\u001b[49m\u001b[38;5;28;43mself\u001b[39;49m\u001b[43m,\u001b[49m\u001b[43m \u001b[49m\u001b[38;5;241;43m*\u001b[39;49m\u001b[43margs\u001b[49m\u001b[43m,\u001b[49m\u001b[43m \u001b[49m\u001b[38;5;241;43m*\u001b[39;49m\u001b[38;5;241;43m*\u001b[39;49m\u001b[43mkwargs\u001b[49m\u001b[43m)\u001b[49m\n\u001b[1;32m    206\u001b[0m \u001b[38;5;28;01mfinally\u001b[39;00m:\n\u001b[1;32m    207\u001b[0m   \u001b[38;5;28mself\u001b[39m\u001b[38;5;241m.\u001b[39m_self_setattr_tracking \u001b[38;5;241m=\u001b[39m previous_value  \u001b[38;5;66;03m# pylint: disable=protected-access\u001b[39;00m\n",
      "File \u001b[0;32m~/miniconda3/envs/Tensorflow/lib/python3.10/site-packages/keras/utils/traceback_utils.py:70\u001b[0m, in \u001b[0;36mfilter_traceback.<locals>.error_handler\u001b[0;34m(*args, **kwargs)\u001b[0m\n\u001b[1;32m     67\u001b[0m     filtered_tb \u001b[38;5;241m=\u001b[39m _process_traceback_frames(e\u001b[38;5;241m.\u001b[39m__traceback__)\n\u001b[1;32m     68\u001b[0m     \u001b[38;5;66;03m# To get the full stack trace, call:\u001b[39;00m\n\u001b[1;32m     69\u001b[0m     \u001b[38;5;66;03m# `tf.debugging.disable_traceback_filtering()`\u001b[39;00m\n\u001b[0;32m---> 70\u001b[0m     \u001b[38;5;28;01mraise\u001b[39;00m e\u001b[38;5;241m.\u001b[39mwith_traceback(filtered_tb) \u001b[38;5;28;01mfrom\u001b[39;00m \u001b[38;5;28mNone\u001b[39m\n\u001b[1;32m     71\u001b[0m \u001b[38;5;28;01mfinally\u001b[39;00m:\n\u001b[1;32m     72\u001b[0m     \u001b[38;5;28;01mdel\u001b[39;00m filtered_tb\n",
      "File \u001b[0;32m~/miniconda3/envs/Tensorflow/lib/python3.10/site-packages/keras/engine/input_spec.py:232\u001b[0m, in \u001b[0;36massert_input_compatibility\u001b[0;34m(input_spec, inputs, layer_name)\u001b[0m\n\u001b[1;32m    230\u001b[0m     ndim \u001b[38;5;241m=\u001b[39m shape\u001b[38;5;241m.\u001b[39mrank\n\u001b[1;32m    231\u001b[0m     \u001b[38;5;28;01mif\u001b[39;00m ndim \u001b[38;5;241m!=\u001b[39m spec\u001b[38;5;241m.\u001b[39mndim:\n\u001b[0;32m--> 232\u001b[0m         \u001b[38;5;28;01mraise\u001b[39;00m \u001b[38;5;167;01mValueError\u001b[39;00m(\n\u001b[1;32m    233\u001b[0m             \u001b[38;5;124mf\u001b[39m\u001b[38;5;124m'\u001b[39m\u001b[38;5;124mInput \u001b[39m\u001b[38;5;132;01m{\u001b[39;00minput_index\u001b[38;5;132;01m}\u001b[39;00m\u001b[38;5;124m of layer \u001b[39m\u001b[38;5;124m\"\u001b[39m\u001b[38;5;132;01m{\u001b[39;00mlayer_name\u001b[38;5;132;01m}\u001b[39;00m\u001b[38;5;124m\"\u001b[39m\u001b[38;5;124m \u001b[39m\u001b[38;5;124m'\u001b[39m\n\u001b[1;32m    234\u001b[0m             \u001b[38;5;124m\"\u001b[39m\u001b[38;5;124mis incompatible with the layer: \u001b[39m\u001b[38;5;124m\"\u001b[39m\n\u001b[1;32m    235\u001b[0m             \u001b[38;5;124mf\u001b[39m\u001b[38;5;124m\"\u001b[39m\u001b[38;5;124mexpected ndim=\u001b[39m\u001b[38;5;132;01m{\u001b[39;00mspec\u001b[38;5;241m.\u001b[39mndim\u001b[38;5;132;01m}\u001b[39;00m\u001b[38;5;124m, found ndim=\u001b[39m\u001b[38;5;132;01m{\u001b[39;00mndim\u001b[38;5;132;01m}\u001b[39;00m\u001b[38;5;124m. \u001b[39m\u001b[38;5;124m\"\u001b[39m\n\u001b[1;32m    236\u001b[0m             \u001b[38;5;124mf\u001b[39m\u001b[38;5;124m\"\u001b[39m\u001b[38;5;124mFull shape received: \u001b[39m\u001b[38;5;132;01m{\u001b[39;00m\u001b[38;5;28mtuple\u001b[39m(shape)\u001b[38;5;132;01m}\u001b[39;00m\u001b[38;5;124m\"\u001b[39m\n\u001b[1;32m    237\u001b[0m         )\n\u001b[1;32m    238\u001b[0m \u001b[38;5;28;01mif\u001b[39;00m spec\u001b[38;5;241m.\u001b[39mmax_ndim \u001b[38;5;129;01mis\u001b[39;00m \u001b[38;5;129;01mnot\u001b[39;00m \u001b[38;5;28;01mNone\u001b[39;00m:\n\u001b[1;32m    239\u001b[0m     ndim \u001b[38;5;241m=\u001b[39m x\u001b[38;5;241m.\u001b[39mshape\u001b[38;5;241m.\u001b[39mrank\n",
      "\u001b[0;31mValueError\u001b[0m: Input 0 of layer \"simple_rnn_5\" is incompatible with the layer: expected ndim=3, found ndim=2. Full shape received: (None, 12)"
     ]
    }
   ],
   "source": [
    "model.add(SimpleRNN(32,input_shape=(50,1),return_sequences=False))"
   ]
  },
  {
   "cell_type": "code",
   "execution_count": null,
   "id": "6aff3a3f",
   "metadata": {},
   "outputs": [],
   "source": []
  }
 ],
 "metadata": {
  "kernelspec": {
   "display_name": "python 3.10 (Tensorflow)",
   "language": "python",
   "name": "tensorflow"
  },
  "language_info": {
   "codemirror_mode": {
    "name": "ipython",
    "version": 3
   },
   "file_extension": ".py",
   "mimetype": "text/x-python",
   "name": "python",
   "nbconvert_exporter": "python",
   "pygments_lexer": "ipython3",
   "version": "3.10.9"
  }
 },
 "nbformat": 4,
 "nbformat_minor": 5
}
